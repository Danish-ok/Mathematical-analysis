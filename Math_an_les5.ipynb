{
 "cells": [
  {
   "cell_type": "markdown",
   "metadata": {},
   "source": [
    "Тема \"Предел функции\": №4(с), \"Теоремы о пределах\": a, b, c, d,e,f.<br>\n",
    "Данные задания сделаны к уроку №4"
   ]
  },
  {
   "cell_type": "markdown",
   "metadata": {},
   "source": [
    "Найти производную выражения:<br>\n",
    "a. $(sin(x)\\cdot cos(x))'= (sin(x))'\\cdot cos(x)+sin(x)\\cdot (cos(x))'=cos^2(x)-sin^2(x)$<br>\n",
    "Т.к. $sin^2(x)+cos^2(x)=1$ Получаем:<br>\n",
    "$cos^2(x)-sin^2(x)=2cos^2(x)-1$"
   ]
  },
  {
   "cell_type": "markdown",
   "metadata": {},
   "source": [
    "b. $(ln(2x+1)^3)'=\\frac{1}{(2x+1)^3}\\cdot3(2x+1)^2\\cdot2=\\frac{6}{2x+1}$"
   ]
  },
  {
   "cell_type": "markdown",
   "metadata": {},
   "source": [
    "d. $\\Big(\\frac{x^4}{ln(x)}\\Big)'=\\frac{(x^4)'\\cdot ln(x)-x^4(ln(x))'}{ln(x)^2}=\\frac{4x^3ln(x)-x^4\\frac{1}{x}}{ln(x)^2}=\\frac{4x^3}{ln(x)}-\\frac{x^3}{ln(x)^2}$"
   ]
  }
 ],
 "metadata": {
  "kernelspec": {
   "display_name": "Python 3",
   "language": "python",
   "name": "python3"
  },
  "language_info": {
   "codemirror_mode": {
    "name": "ipython",
    "version": 3
   },
   "file_extension": ".py",
   "mimetype": "text/x-python",
   "name": "python",
   "nbconvert_exporter": "python",
   "pygments_lexer": "ipython3",
   "version": "3.8.5"
  }
 },
 "nbformat": 4,
 "nbformat_minor": 4
}
