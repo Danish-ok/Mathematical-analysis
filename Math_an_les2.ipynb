{
 "cells": [
  {
   "cell_type": "markdown",
   "metadata": {},
   "source": [
    "$\\forall y \\in [0, 1] : sgn(y) = 1$<br>\n",
    "Любой y, принадлежащий промежутку 0-1 включая концы, такой, что sgn от y равен 1.<br>\n",
    "Утверждение не верно, т.к. 0 включен в промежуток, а sgn(0) = 0."
   ]
  },
  {
   "cell_type": "markdown",
   "metadata": {},
   "source": [
    "$\\exists y \\in [0, 1] : sgn(y) \\ne 1$.<br>\n",
    "Утверждение верно, т.к. при значениях y = 0 sgn = 0."
   ]
  },
  {
   "cell_type": "markdown",
   "metadata": {},
   "source": [
    "$\\forall n \\in \\mathbb{N} > 2 : \\exists x, y, z \\in \\mathbb{N} : x^n = y^n + z^n$<br>\n",
    "Любое n, принадлежащее множеству натуральных чисел > 2 такое, что: существуют x, y, z, принадлежащие множеству натуральных чисел, такие, что $x^n = y^n + z^n$<br>\n",
    "Утверждение не верно согласно теореме Ферма."
   ]
  },
  {
   "cell_type": "markdown",
   "metadata": {},
   "source": [
    " $\\exists n \\in \\mathbb N > 2 : \\forall  x, y, z, \\in \\mathbb{N} \\implies x^n \\ne y^n + z^n$. Утверждение истино согласно теореме Ферма."
   ]
  },
  {
   "cell_type": "markdown",
   "metadata": {},
   "source": [
    "$\\forall x \\in \\mathbb R \\exists X \\in \\mathbb R : X > x$<br>\n",
    "Для любого x, принадлежащего множеству вещественных чисел, существует X, принадлежащий множеству вещественных чисел такой, что X > x.<br>\n",
    "Утверждение верно, т.к. вещественный числовой ряд бесконечен, всегда есть число Х больше данного х."
   ]
  },
  {
   "cell_type": "markdown",
   "metadata": {},
   "source": [
    "$\\exists x \\in \\mathbb R : \\forall X \\in \\mathbb R \\implies X \\leqslant  x$<br>\n",
    "Утверждение не верно, т.к. числовой ряд бесконечен в обе стороны - не существует числа х по отношению к которому любое число Х будет меньше или равно х."
   ]
  },
  {
   "cell_type": "markdown",
   "metadata": {},
   "source": [
    "$\\forall x \\in \\mathbb C \\nexists y \\in \\mathbb C : x > y || x < y$. <br>\n",
    "Для любого х, принадлежащего множеству комплексных чисел, не существует у, принадлежащего множеству комплексных чисел, такого, что x > y или x < y.<br>\n",
    "Утверждение не верно, т.к. для любого комплексного числа существует другое число больше или меньше данного."
   ]
  },
  {
   "cell_type": "markdown",
   "metadata": {},
   "source": [
    "$ \\exists x \\in \\mathbb C : \\exists y \\in \\mathbb C : x \\leqslant y || x \\geqslant y$<br>\n",
    "Утверждение верно."
   ]
  },
  {
   "cell_type": "markdown",
   "metadata": {},
   "source": [
    "$\\forall y \\in [0; \\frac \\pi 2] \\exists \\varepsilon >0 : sin(y) < sin(y + \\varepsilon)$<br>\n",
    "Для любого у из сегмента $[0, \\frac \\pi 2]$ существует $\\varepsilon > 0$ такой, что $sin(y) < sin(y + \\varepsilon)$<br>\n",
    "Утверждение ложно, т.к. при у = $\\frac \\pi 2$ значение sin(y) - максимальное."
   ]
  },
  {
   "cell_type": "markdown",
   "metadata": {},
   "source": [
    "$\\exists y \\in [0; \\frac \\pi 2] : \\forall \\varepsilon > 0 \\implies sin(y) \\geq sin(y + \\varepsilon)$<br>\n",
    "Утверждение верно."
   ]
  },
  {
   "cell_type": "markdown",
   "metadata": {},
   "source": [
    "$\\forall y \\in [0; \\pi) \\exists \\varepsilon > 0 : cos(y) > cos(y + \\varepsilon)$<br>\n",
    "Для любого у из полусегмента $[0, \\pi)$ существует $\\varepsilon > 0$ такой, что $cos(y) > cos(y + \\varepsilon)$<br>\n",
    "При $y+\\varepsilon > \\pi$ утверждение ложно."
   ]
  },
  {
   "cell_type": "markdown",
   "metadata": {},
   "source": [
    "$\\exists y \\in [o;\\pi) : \\forall \\varepsilon > 0 \\implies cos(y) \\leq cos(y + \\varepsilon)$<br>\n",
    "Утверждение ложно т.к. cos(y) не достигает минимального значения -1."
   ]
  },
  {
   "cell_type": "markdown",
   "metadata": {},
   "source": [
    "$\\exists x : x \\notin${$ \\mathbb {N, Z, Q, R, C}$}<br>\n",
    "Утверждение ложно, т.к. число не может не принадлежать ни одному из известых числовых множеств."
   ]
  },
  {
   "cell_type": "markdown",
   "metadata": {},
   "source": [
    "$\\forall x \\implies x \\in$ {$\\mathbb {N, Z, Q, R, C}$}<br>\n",
    "Любой х принадлежит хотя бы одному из существующих числовых множеств.<br>\n",
    "Утверждение верно."
   ]
  },
  {
   "cell_type": "markdown",
   "metadata": {},
   "source": [
    "a = {2*i+1 for i in range(1,100)}\n",
    "for j in range(3,100,2):\n",
    "    b = {i*j for i in a}   \n",
    "    a = a-b\n",
    "a"
   ]
  },
  {
   "cell_type": "code",
   "execution_count": 16,
   "metadata": {},
   "outputs": [
    {
     "data": {
      "text/plain": [
       "{5, 6}"
      ]
     },
     "execution_count": 16,
     "metadata": {},
     "output_type": "execute_result"
    }
   ],
   "source": [
    "a = {1,2,3,4,5,6,7}\n",
    "b = {5,6,7,8,9,0,11}\n",
    "c = {3,5,6,12,13,14,}\n",
    "a&b&c"
   ]
  },
  {
   "cell_type": "code",
   "execution_count": 17,
   "metadata": {},
   "outputs": [
    {
     "data": {
      "text/plain": [
       "{0, 1, 2, 3, 4, 5, 6, 7, 8, 9, 11, 12, 13, 14}"
      ]
     },
     "execution_count": 17,
     "metadata": {},
     "output_type": "execute_result"
    }
   ],
   "source": [
    "a|b|c"
   ]
  },
  {
   "cell_type": "code",
   "execution_count": 18,
   "metadata": {},
   "outputs": [
    {
     "data": {
      "text/plain": [
       "{0, 1, 2, 4, 5, 6, 8, 9, 11, 12, 13, 14}"
      ]
     },
     "execution_count": 18,
     "metadata": {},
     "output_type": "execute_result"
    }
   ],
   "source": [
    "a^b^c"
   ]
  },
  {
   "cell_type": "code",
   "execution_count": 19,
   "metadata": {},
   "outputs": [
    {
     "data": {
      "text/plain": [
       "{1, 2, 4}"
      ]
     },
     "execution_count": 19,
     "metadata": {},
     "output_type": "execute_result"
    }
   ],
   "source": [
    "a-b-c"
   ]
  },
  {
   "cell_type": "markdown",
   "metadata": {},
   "source": [
    "Задача про книгу:<br>\n",
    "x - стоимость книги.<br\n",
    "                        >\n",
    "$a_1 = 100$ заплатили за книгу.<br>\n",
    "$x-a_1$ - осталось заплатить.<br>\n",
    "$a_2 = x - a_1$ Если бы заплатили столько, сколько осталось.<br>\n",
    "осталось бы заплатить $x-a_2=x-x+a_1=a_1$<br>\n",
    "Стоимость книги 100+100=200р."
   ]
  },
  {
   "cell_type": "markdown",
   "metadata": {},
   "source": [
    "Простые числа = {2n+1}-{(2n+1)*k}|n, k$\\in \\mathbb Z$<br>\n",
    "Код для простых чисел (он сырой, без учета 2):"
   ]
  },
  {
   "cell_type": "code",
   "execution_count": 21,
   "metadata": {},
   "outputs": [
    {
     "data": {
      "text/plain": [
       "{3,\n",
       " 5,\n",
       " 7,\n",
       " 11,\n",
       " 13,\n",
       " 17,\n",
       " 19,\n",
       " 23,\n",
       " 29,\n",
       " 31,\n",
       " 37,\n",
       " 41,\n",
       " 43,\n",
       " 47,\n",
       " 53,\n",
       " 59,\n",
       " 61,\n",
       " 67,\n",
       " 71,\n",
       " 73,\n",
       " 79,\n",
       " 83,\n",
       " 89,\n",
       " 97,\n",
       " 101,\n",
       " 103,\n",
       " 107,\n",
       " 109,\n",
       " 113,\n",
       " 127,\n",
       " 131,\n",
       " 137,\n",
       " 139,\n",
       " 149,\n",
       " 151,\n",
       " 157,\n",
       " 163,\n",
       " 167,\n",
       " 173,\n",
       " 179,\n",
       " 181,\n",
       " 191,\n",
       " 193,\n",
       " 197,\n",
       " 199}"
      ]
     },
     "execution_count": 21,
     "metadata": {},
     "output_type": "execute_result"
    }
   ],
   "source": [
    "a = {2*i+1 for i in range(1,100)}\n",
    "for j in range(3,100,2):\n",
    "    b = {i*j for i in a}   \n",
    "    a = a-b\n",
    "a"
   ]
  }
 ],
 "metadata": {
  "kernelspec": {
   "display_name": "Python 3",
   "language": "python",
   "name": "python3"
  },
  "language_info": {
   "codemirror_mode": {
    "name": "ipython",
    "version": 3
   },
   "file_extension": ".py",
   "mimetype": "text/x-python",
   "name": "python",
   "nbconvert_exporter": "python",
   "pygments_lexer": "ipython3",
   "version": "3.8.5"
  }
 },
 "nbformat": 4,
 "nbformat_minor": 4
}
