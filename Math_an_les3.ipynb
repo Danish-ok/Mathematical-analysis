{
 "cells": [
  {
   "cell_type": "code",
   "execution_count": null,
   "metadata": {},
   "outputs": [],
   "source": [
    "Как относятся друг к другу множество и последовательность?"
   ]
  },
  {
   "cell_type": "markdown",
   "metadata": {},
   "source": [
    "Последовательность - это упорядоченная структура, элементы которой логически связаны. Другими словами, каждый субъект является родительским для последующего и/или дочерним для предыдущего, все элементы занимают строго определенные места.<br>\n",
    "Множество объединяет элементы по общим для них признакам без логической связи между субъектами. Последовательность может являться частью множества, различные последовательности могут иметь общее множество."
   ]
  },
  {
   "cell_type": "markdown",
   "metadata": {},
   "source": [
    "$\\{a_n\\}^\\infty_{n=1}=2^n - n$<br>\n",
    "Найдем разность n+1 и n элемента.<br> \n",
    "$2^{n+1}-(n+1)-2^n+n$ = 2 - 1 = 1 > 0 Следовательно последовательность монотонно возрастающая.<br>\n",
    "$n({2^n - n \\over n})=n(2^{n-1}-1)=\\infty(\\infty-1)$. Последовательность не ограничена сверху, но ограничена снизу при n=1 $a_n=0$<br>\n",
    "При n=5 $a_n=27$"
   ]
  },
  {
   "cell_type": "markdown",
   "metadata": {},
   "source": [
    "$\\{b_n\\}^\\infty_{n=2}={1\\over{1-n}}$<br>\n",
    "Найдем разность n+1 и n элемента.<br>\n",
    "1 - (n + 1) -1 +n = -1 Т.к. знаменатель уменьшается, следовательно дробь увеличивается $\\implies$ Последовательность монотонно возрастающая.<br>\n",
    "В верхнем пределе функция стремится к 0, в нижнем пределе - равна -1.<br>\n",
    "При n=5 $b_n=-0.25$"
   ]
  },
  {
   "cell_type": "markdown",
   "metadata": {},
   "source": [
    "$\\{c_n\\}^\\infty_{n=1}=-1^n+\\sqrt{2n}$<br>\n",
    "Найдем разность n+1 и n элемента.<br>\n",
    "$-1^{n+1}+\\sqrt{2(n+1)}+1^n-\\sqrt{2n}=\\sqrt2(\\sqrt{n+1}-\\sqrt n)$ Выражение > 0, следовательно функция возрастает.<br>\n",
    "$-1^\\infty+\\sqrt{2\\infty}=\\infty$ в верхнем пределе, $-1+\\sqrt 2$ в нижнем пределе (примерно 0.41)<br>\n",
    "При n=5 $c_n=-1+\\sqrt{10}\\cong 2.16$"
   ]
  },
  {
   "cell_type": "markdown",
   "metadata": {},
   "source": [
    "$\\{d_n\\}^\\infty_{n=1}=(-1)^{2n}+{1\\over{n^2}}$<br>\n",
    "Найдем разность n+1 и n элемента.<br>\n",
    "$(-1)^{2(n+1)}+{1\\over{(n+1)^2}}-(-1)^{2n}-{1\\over{n^2}}={1\\over{(n+1)^2}}-{1\\over{n^2}}<0$ Функция убывает.<br>\n",
    "$(-1)^{2n}=1$, ${1\\over{n^2}} \\in [1; 0) \\implies$ Пределы функции (1; 2]<br>\n",
    "При n=5 $c_n=1,04$"
   ]
  },
  {
   "cell_type": "markdown",
   "metadata": {},
   "source": [
    "$a_1=128, a_{n+1}-a_n=6$<br>\n",
    "$a_n=a_1+6(n-1)\\implies a_{12}=128+6*11=194$"
   ]
  },
  {
   "cell_type": "code",
   "execution_count": 27,
   "metadata": {},
   "outputs": [
    {
     "name": "stdout",
     "output_type": "stream",
     "text": [
      "4 1\n",
      "16 2\n",
      "256 3\n",
      "65536 4\n",
      "4294967296 5\n"
     ]
    }
   ],
   "source": [
    "import math\n",
    "n=2\n",
    "k=0\n",
    "while n<10**7:\n",
    "    n**=2\n",
    "    k+=1\n",
    "    print(n,k)"
   ]
  },
  {
   "cell_type": "code",
   "execution_count": 29,
   "metadata": {},
   "outputs": [
    {
     "data": {
      "text/plain": [
       "65536.0"
      ]
     },
     "execution_count": 29,
     "metadata": {},
     "output_type": "execute_result"
    }
   ],
   "source": [
    "n*(n**(-1/2))"
   ]
  }
 ],
 "metadata": {
  "kernelspec": {
   "display_name": "Python 3",
   "language": "python",
   "name": "python3"
  },
  "language_info": {
   "codemirror_mode": {
    "name": "ipython",
    "version": 3
   },
   "file_extension": ".py",
   "mimetype": "text/x-python",
   "name": "python",
   "nbconvert_exporter": "python",
   "pygments_lexer": "ipython3",
   "version": "3.8.5"
  }
 },
 "nbformat": 4,
 "nbformat_minor": 4
}
