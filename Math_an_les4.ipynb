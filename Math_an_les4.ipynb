{
 "cells": [
  {
   "cell_type": "markdown",
   "metadata": {},
   "source": [
    "1. Предложить пример функции, не имеющей предела в нуле и в бесконечностях.<br>\n",
    "2. Привести пример функции, не имеющей предела в точке, но определенной в ней."
   ]
  },
  {
   "cell_type": "markdown",
   "metadata": {},
   "source": [
    "$sgn(x)=\\begin{cases}+1, x>0 \\\\ 0, x=0 \\\\ -1, x<0\\end {cases}$<br>\n",
    "В 0 предела точно нет, а в +- $\\infty$, возможно, +-1 соответственно (не уверен)"
   ]
  },
  {
   "cell_type": "markdown",
   "metadata": {},
   "source": [
    "Функция Дирихле, вроде, подходит под эти требования, т.к. является всюду разрывной.\n",
    "$D(x)=\\begin{cases} 1,x\\in \\mathbb Q \\\\ 0,x\\in \\mathbb {R/Q}\\end {cases}$"
   ]
  },
  {
   "cell_type": "markdown",
   "metadata": {},
   "source": [
    "$f(x)=x^3-x^2$ Исследовать."
   ]
  },
  {
   "cell_type": "markdown",
   "metadata": {},
   "source": [
    "Область определения $x \\subset (-\\infty, +\\infty)$<br>\n",
    "Область значений $y \\subset (-\\infty, +\\infty)$"
   ]
  },
  {
   "cell_type": "markdown",
   "metadata": {},
   "source": [
    "Нули функции и их кратность:<br>\n",
    "$x^3-x^2=0$<br> \n",
    "$x^2(x-1)=0$<br>\n",
    "$x_1=0 \\\\ x_2=1$\n",
    "Кратность нулей = 2"
   ]
  },
  {
   "cell_type": "markdown",
   "metadata": {},
   "source": [
    "Отрезки знакопостоянства:<br>\n",
    "Рассмотрим промежутки: $(-\\infty,0),(0,1),(1,+\\infty)$<br>\n",
    "f(-1)<0, f(0.4)<0, f(2)>0<br>\n",
    "f(x)<0 на $(-\\infty,1)$<br>\n",
    "f(x)>0 на $(1,+\\infty)$"
   ]
  },
  {
   "cell_type": "markdown",
   "metadata": {},
   "source": [
    "Интервалы монотонности:\n",
    "f'(x) = $3x^2-2x=x(3x-2)$<br>\n",
    "$x_1=0,\\ x_2={2\\over 3}$<br>\n",
    "Рассмотрим промежутки: $(-\\infty,0),\\ (0,{2\\over 3}),\\ ({2\\over 3},+\\infty)$<br>\n",
    "f'(-1)>0, f'(${1\\over 3}$<0, f'(1)>0<br>\n",
    "Возрастает на $(-\\infty,0) и ({2\\over 3},+\\infty)$.<br>\n",
    "Убывает на $(0,{2\\over 3})$"
   ]
  },
  {
   "cell_type": "markdown",
   "metadata": {},
   "source": [
    "Функция нечетна, т.к. не симметрична относительно ОУ."
   ]
  },
  {
   "cell_type": "markdown",
   "metadata": {},
   "source": [
    "Ограниченность:<br>\n",
    "$\\lim\\limits_{x\\to\\pm\\infty}\\ x^3-x^2=x^2(x-1)= \\pm\\infty\\ при \\ х ->\\ \\pm\\infty$ Функция не ограничена."
   ]
  },
  {
   "cell_type": "markdown",
   "metadata": {},
   "source": [
    "Периодичность:<br>\n",
    "Функция не периодична т.к. не существует Т, при котором f(x+T)=f(x-T)"
   ]
  },
  {
   "cell_type": "markdown",
   "metadata": {},
   "source": [
    "Найти предел:<br>\n",
    "a. $\\lim\\limits_{x\\to 0}\\ \\frac {3x^3-2x^2}{4x^2}=\\frac{3-\\frac{2}{x}}{\\frac{4}{x}}=\\frac{3x-2}{4}=-\\frac{1}{2}$"
   ]
  },
  {
   "cell_type": "markdown",
   "metadata": {},
   "source": [
    "b. $\\lim\\limits_{x\\to0}\\frac{\\sqrt{1+x}-1}{\\sqrt[3]{1+x}-1}=\\frac{(\\sqrt{1+x}-1)(\\sqrt{1+x}+1)}{\\sqrt{1+x}+1}\\cdot\\frac{\\sqrt[3]{(1+x)^2}+\\sqrt[3]{1+x}+1}{(\\sqrt[3]{1+x}-1)(\\sqrt[3]{(1+x)^2}+\\sqrt[3]{1+x}+1)}=\\frac{x}{1+1}\\cdot\\frac{1+1+1}{x}=\\frac{3}{2}$"
   ]
  },
  {
   "cell_type": "markdown",
   "metadata": {},
   "source": [
    "c. $\\lim\\limits_{x\\to\\infty}\\left(\\frac{x+3}{x}\\right)^{4x+1}=\\big(1+\\frac{3}{x}\\big)^{4x+1}=\\big(1+\\frac{3}{x}\\big)^{x\\cdot\\frac{4x+1}{x}}=\\lim\\limits_{x\\to\\infty}\\bigg(\\big(1+\\frac{3}{x}\\big)^x\\bigg)^{\\lim\\limits_{x\\to\\infty}\\frac{4x+1}{x}}$<br>\n",
    "Примем $\\frac{3}{x}=t$. Тогда:<br>\n",
    "$\\lim\\limits_{x\\to0}\\big(1+t\\big)^\\frac{3}{t}=\\Big(\\big(1+t\\big)^\\frac{1}{t}\\Big)^3=e^3$<br>\n",
    "Рассмотрим $\\lim\\limits_{x\\to\\infty}\\frac{4x+1}{x}=\\frac{4+\\frac{1}{x}}{1}=4$<br>\n",
    "Получаем: $(e^3)^4=e^{12}$ - результат."
   ]
  },
  {
   "cell_type": "markdown",
   "metadata": {},
   "source": [
    "Найти предел:<br>\n",
    "a. $\\lim\\limits_{x\\to0}\\frac{sin(2x)}{4x}=\\frac{sin(2x)}{2\\cdot2x}=\\frac{1}{2}$"
   ]
  },
  {
   "cell_type": "markdown",
   "metadata": {},
   "source": [
    "b.  $\\lim\\limits_{x\\to0}\\frac{x}{sin(x)}=1$"
   ]
  },
  {
   "cell_type": "markdown",
   "metadata": {},
   "source": [
    "c.  $\\lim\\limits_{x\\to0}\\frac{x}{arcsin(x)}=x\\cdot sin(x)=x\\cdot x\\cdot\\frac{sin(x)}{x}=x^2=0$"
   ]
  },
  {
   "cell_type": "markdown",
   "metadata": {},
   "source": [
    "d. $\\lim\\limits_{x\\to\\infty}\\Big(\\frac{4x+3}{4x-3}\\Big)^{6x}=\\Big(\\frac{4x-3+6}{4x-3}\\Big)^{6x}=\\Big(1+\\frac{6}{4x-3}\\Big)^{6x}$<br>\n",
    "Примем: $\\frac{6}{4x-3}=\\frac{1}{t}$ или $t=\\frac{4x-3}{6}$<br>\n",
    "Отсюда:<br>\n",
    "$x=\\frac {6t+3}{4}=\\frac{3t}{2}+\\frac{3}{4}$ Тогда:<br>\n",
    "$6x=\\frac{18t}{2}+\\frac{18}{4}=9t+\\frac{9}{2}$<br>\n",
    "Следовательно:<br>\n",
    "$\\lim\\limits_{x\\to\\infty}\\Big(1+\\frac{6}{4x-3}\\Big)^{6x}=\\Big(1+\\frac{1}{t}\\Big)^{9t+\\frac{9}{2}}=\\Big(1+\\frac{1}{t}\\Big)^{\\frac{9}{2}}\\cdot\\Big(1+\\frac{1}{t}\\Big)^{9t}=1\\cdot e^9=e^9$"
   ]
  },
  {
   "cell_type": "markdown",
   "metadata": {},
   "source": [
    "$\\lim\\limits_{x\\to\\infty} \\frac{sin(x)+ln(x)}{x}=\\frac{sin(x)}{x}+\\frac{ln(x)}{x}=\\lim\\limits_{x\\to\\infty}\\frac{sin(x)}{x}+\\lim\\limits_{x\\to\\infty}\\frac{ln(x)}{x}$<br>\n",
    "$\\lim\\limits_{x\\to\\infty}\\frac{sin(x)}{x}=\\frac{(-1;+1)}{\\infty}=0$<br>\n",
    "$\\lim\\limits_{x\\to\\infty}\\frac{ln(x)}{x}=0$ Т.к. fx) растет быстрее чем f(ln(x))<br>\n",
    "Следовательно $\\lim\\limits_{x\\to\\infty}\\frac{sin(x)}{x}+\\lim\\limits_{x\\to\\infty}\\frac{ln(x)}{x}=0+0=0$"
   ]
  },
  {
   "cell_type": "markdown",
   "metadata": {},
   "source": [
    "$\\lim\\limits_{x\\to0} \\frac{sin(x)+ln(x)}{x}=\\frac{sin(x)}{x}+\\frac{ln(x)}{x}=\\lim\\limits_{x\\to0}\\frac{sin(x)}{x}+\\lim\\limits_{x\\to0}\\frac{ln(x)}{x}$<br>\n",
    "$\\lim\\limits_{x\\to0}\\frac{sin(x)}{x}=\\frac{0}{0}=0$<br>\n",
    "$\\lim\\limits_{x\\to0}\\frac{ln(x)}{x}=\\frac{-\\infty}{0}=-\\infty$<br>\n",
    "$\\lim\\limits_{x\\to0}\\frac{sin(x)}{x}+\\lim\\limits_{x\\to0}\\frac{ln(x)}{x}=0-\\infty=-\\infty$<br>"
   ]
  }
 ],
 "metadata": {
  "kernelspec": {
   "display_name": "Python 3",
   "language": "python",
   "name": "python3"
  },
  "language_info": {
   "codemirror_mode": {
    "name": "ipython",
    "version": 3
   },
   "file_extension": ".py",
   "mimetype": "text/x-python",
   "name": "python",
   "nbconvert_exporter": "python",
   "pygments_lexer": "ipython3",
   "version": "3.8.5"
  }
 },
 "nbformat": 4,
 "nbformat_minor": 4
}
